{
 "cells": [
  {
   "cell_type": "code",
   "execution_count": 32,
   "metadata": {},
   "outputs": [],
   "source": [
    "import qutip as qt\n",
    "import numpy as np\n",
    "import matplotlib.pyplot as plt"
   ]
  },
  {
   "cell_type": "code",
   "execution_count": 33,
   "metadata": {},
   "outputs": [],
   "source": [
    "# Define system parameters\n",
    "\n",
    "# Physical parameters\n",
    "omega_c = 2 * np.pi * 6.826  # Cavity frequency (nu_c = 6.826 GHz)\n",
    "omega_q = 2 * np.pi * 5.0258  # Qubit frequency (nu_q = 5.0258 GHz)\n",
    "omega_r = 0.9 * omega_q  # Qubit drive frequency (near qubit frequency)\n",
    "omega_d = 0.9 * omega_c  # Drive frequency (near cavity frequency)\n",
    "chi = 2 * np.pi * -0.66 * 1e-3  # Dispersive coupling strength (chi / 2 pi = -0.66 MHz)\n",
    "kappa = 2 * np.pi * 4.3 * 1e-3  # Linewidth (kappa / 2 pi = 4.3 MHz)\n",
    "Omega_R = 2 * np.pi * 9 * 1e-3  # Rabi frequency (Nu_R = 9 MHz) (same as -Delta_c)\n",
    "\n",
    "T_phi = 1  # Qubit pure dephasing time\n",
    "Gamma_phi = 1 / T_phi  # Qubit pure dephasing rate\n",
    "T_2 = 10.6 * 1e-6  # Qubit lab frame dephasing rate (T_2 = 10.6 μs)\n",
    "\n",
    "# System dimensions\n",
    "N_cavity = 100  # Number of Fock states for cavity\n",
    "N_qubit = 2  # Number of states for qubit\n",
    "\n",
    "# Time range\n",
    "t_range = np.linspace(0, 100, 100)\n",
    "\n",
    "# Calculate detuning\n",
    "# Delta_c = omega_d - omega_c  # Cavity detuning (same as -Omega_R)\n",
    "Delta_c = -Omega_R  # Cavity detuning (same as -Omega_R)"
   ]
  },
  {
   "cell_type": "code",
   "execution_count": 34,
   "metadata": {},
   "outputs": [],
   "source": [
    "# Define Operators\n",
    "\n",
    "# Identity operators\n",
    "I_c = qt.qeye(N_cavity)  # Cavity identity operator\n",
    "I_q = qt.qeye(N_qubit)  # Qubit identity operator\n",
    "\n",
    "# Cavity operators\n",
    "a = qt.tensor(qt.destroy(N_cavity), I_q)  # Cavity annihilation operator\n",
    "n = a.dag() * a  # Cavity number operator\n",
    "\n",
    "# Qubit operators\n",
    "sigma_x = qt.tensor(I_c, qt.sigmax())  # Qubit X operator\n",
    "sigma_z = qt.tensor(I_c, qt.sigmaz())  # Qubit Z operator\n",
    "sigma_plus = qt.tensor(I_c, qt.create(N_qubit))  # Qubit raising operator\n",
    "sigma_minus = qt.tensor(I_c, qt.destroy(N_qubit))  # Qubit lowering operator"
   ]
  },
  {
   "cell_type": "code",
   "execution_count": 35,
   "metadata": {},
   "outputs": [],
   "source": [
    "# Define simulation parameters\n",
    "\n",
    "# Master equation solver options\n",
    "options = dict(\n",
    "    store_states=True,\n",
    "    progress_bar=True,\n",
    "    nsteps=int(1e6),\n",
    "    rtol=1e-4,\n",
    "    atol=1e-4,\n",
    "    max_step=1.0,\n",
    ")\n",
    "\n",
    "# Evaluation operators (observables)\n",
    "e_ops = {\n",
    "    'x': sigma_x,\n",
    "    'z': sigma_z,\n",
    "    'n': n,\n",
    "}\n",
    "\n",
    "# Define initial state (|0⟩_c ⊗ |+⟩_q)\n",
    "psi0_cavity = qt.basis(N_cavity, 0)                                # Cavity ground state\n",
    "psi0_qubit = (qt.basis(N_qubit, 0) + qt.basis(N_qubit, 1)).unit()  # Qubit |+⟩ state\n",
    "psi0 = qt.tensor(psi0_cavity, psi0_qubit)\n",
    "\n",
    "# Range of average photon numbers to simulate\n",
    "blah = Delta_c + 0.5j * kappa\n",
    "# displacement_range = np.sqrt(np.linspace(0, 10, 10)) * np.abs(blah) / blah\n",
    "displacement_range = np.array([2]) * np.abs(blah) / blah"
   ]
  },
  {
   "cell_type": "code",
   "execution_count": 36,
   "metadata": {},
   "outputs": [],
   "source": [
    "# Define functions for simulation\n",
    "\n",
    "def hamiltonian(displacement):\n",
    "\n",
    "    # Define displacement operator\n",
    "    d = qt.tensor(qt.destroy(N_cavity) - displacement, I_q)\n",
    "\n",
    "    # omega_q_ac = omega_q + chi * (2 * np.abs(displacement)**2)\n",
    "    # omega_r = omega_q_ac\n",
    "    # Delta_q = omega_q - omega_r  # Qubit detuning\n",
    "    Delta_q = 0  # Qubit detuning\n",
    "\n",
    "    # Define the Hamiltonian components\n",
    "    H_cavity = -Delta_c * d.dag() * d\n",
    "    H_qubit = -0.5 * (Delta_q + chi * (2 * np.abs(displacement)**2)) * sigma_z\n",
    "    H_rabi = -0.5 * Omega_R * sigma_x\n",
    "    H_int = -chi * (np.conj(displacement) * d + displacement * d.dag() + d.dag() * d) * sigma_z\n",
    "    \n",
    "    return H_cavity + H_qubit + H_rabi + H_int\n",
    "\n",
    "def Gamma_plus(displacement):\n",
    "    return 4 * chi**2 * np.abs(displacement)**2 / kappa + (1 / (2 * T_2))\n",
    "\n",
    "def Gamma_minus(displacement):\n",
    "    return kappa * chi**2 * np.abs(displacement)**2 / ((2 * Omega_R)**2 + (kappa / 2)**2) + (1 / (2 * T_2))\n",
    "\n",
    "def P(N, i):\n",
    "    return qt.tensor(qt.basis(N, i) * qt.basis(N, i).dag(), I_q)\n",
    "\n",
    "def run_simulation(displacement):\n",
    "    # Collapse operators (dissipation)\n",
    "    c_ops = [\n",
    "        np.sqrt(kappa) * a,\n",
    "        np.sqrt(Gamma_phi / 2) * sigma_z,\n",
    "        np.sqrt(Gamma_plus(displacement)) * sigma_plus,\n",
    "        np.sqrt(Gamma_minus(displacement)) * sigma_minus\n",
    "    ]\n",
    "\n",
    "    H = hamiltonian(displacement)\n",
    "    \n",
    "    result = qt.mesolve(H, psi0, t_range, c_ops, options=options)\n",
    "    \n",
    "    return result\n"
   ]
  },
  {
   "cell_type": "code",
   "execution_count": null,
   "metadata": {},
   "outputs": [],
   "source": [
    "# Run simulation\n",
    "\n",
    "# Run simulations in parallel\n",
    "results = qt.parallel_map(run_simulation, displacement_range)"
   ]
  },
  {
   "cell_type": "code",
   "execution_count": 30,
   "metadata": {},
   "outputs": [
    {
     "name": "stdout",
     "output_type": "stream",
     "text": [
      "(1, 100)\n"
     ]
    }
   ],
   "source": [
    "# Manipulate results\n",
    "\n",
    "# Extract states\n",
    "result_states = np.array([r.states for r in results])\n",
    "\n",
    "n_exp = np.zeros_like(result_states)\n",
    "\n",
    "# Extract n_expect\n",
    "for i, states in enumerate(result_states):\n",
    "    n_exp[i] = np.array([qt.expect(a.dag() * a, state) for state in states])\n",
    "\n",
    "print(result_states.shape)"
   ]
  },
  {
   "cell_type": "code",
   "execution_count": 31,
   "metadata": {},
   "outputs": [
    {
     "data": {
      "image/png": "[encoded data removed]",
      "text/plain": [
       "<Figure size 1000x500 with 1 Axes>"
      ]
     },
     "metadata": {},
     "output_type": "display_data"
    }
   ],
   "source": [
    "# Visualization\n",
    "\n",
    "fig = plt.figure(figsize=(10, 5))\n",
    "ax1 = fig.add_subplot(111)\n",
    "\n",
    "for j, displacement in enumerate(displacement_range):\n",
    "    \n",
    "    ax1.plot(t_range, n_exp[j], label=j)\n",
    "\n",
    "\n",
    "ax1.set_xlabel('$t$')\n",
    "ax1.set_ylabel('$\\\\langle n\\\\rangle$')\n",
    "ax1.grid(True)\n",
    "ax1.legend()\n",
    "\n",
    "plt.show()"
   ]
  }
 ],
 "metadata": {
  "kernelspec": {
   "display_name": "uni",
   "language": "python",
   "name": "python3"
  },
  "language_info": {
   "codemirror_mode": {
    "name": "ipython",
    "version": 3
   },
   "file_extension": ".py",
   "mimetype": "text/x-python",
   "name": "python",
   "nbconvert_exporter": "python",
   "pygments_lexer": "ipython3",
   "version": "3.12.10"
  }
 },
 "nbformat": 4,
 "nbformat_minor": 2
}
